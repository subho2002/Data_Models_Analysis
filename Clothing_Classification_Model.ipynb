{
 "cells": [
  {
   "cell_type": "code",
   "execution_count": 4,
   "id": "f7460a41-e25a-4793-832e-1ac93f34fc15",
   "metadata": {},
   "outputs": [
    {
     "name": "stdout",
     "output_type": "stream",
     "text": [
      "Available columns: ['Age', 'Gender', 'Clothes']\n"
     ]
    }
   ],
   "source": [
    "import pandas as pd\n",
    "\n",
    "df = pd.read_csv(\"Clothing_Classification.csv\")\n",
    "df.columns = df.columns.str.strip()  # Clean spaces\n",
    "print(\"Available columns:\", df.columns.tolist())"
   ]
  },
  {
   "cell_type": "code",
   "execution_count": null,
   "id": "ff26f8eb-539e-42ac-916f-fd708a0ef390",
   "metadata": {},
   "outputs": [
    {
     "name": "stdout",
     "output_type": "stream",
     "text": [
      "Available columns: ['Age', 'Gender', 'Clothes']\n",
      "\n",
      "Sample Predictions:\n",
      "Example 1: Predicted Next Clothes = Sherwani\n",
      "Example 2: Predicted Next Clothes = Chanderi Saree\n",
      "Example 3: Predicted Next Clothes = Salwar Kameez\n",
      "Example 4: Predicted Next Clothes = Kurta Pajama\n",
      "Example 5: Predicted Next Clothes = Banarasi Saree\n"
     ]
    }
   ],
   "source": [
    "import pandas as pd\n",
    "from sklearn.preprocessing import LabelEncoder\n",
    "from sklearn.model_selection import train_test_split\n",
    "from sklearn.ensemble import RandomForestClassifier\n",
    "from sklearn.metrics import accuracy_score\n",
    "\n",
    "df = pd.read_csv(\"Clothing_Classification.csv\")\n",
    "\n",
    "df.columns = df.columns.str.strip()\n",
    "\n",
    "print(\"Available columns:\", df.columns.tolist())\n",
    "\n",
    "target_column = 'Clothes' \n",
    "\n",
    "if target_column not in df.columns:\n",
    "    raise ValueError(\n",
    "        f\"Target column '{target_column}' not found. \"\n",
    "        \"Check spelling and casing. Use one of: \" + \", \".join(df.columns)\n",
    "    )\n",
    "\n",
    "categorical_cols = df.select_dtypes(include=['object']).columns.tolist()\n",
    "if target_column in categorical_cols:\n",
    "    categorical_cols.remove(target_column)\n",
    "\n",
    "le_dict = {}\n",
    "for col in categorical_cols:\n",
    "    le = LabelEncoder()\n",
    "    df[col] = le.fit_transform(df[col])\n",
    "    le_dict[col] = le\n",
    "\n",
    "target_encoder = None\n",
    "if df[target_column].dtype == 'object':\n",
    "    target_encoder = LabelEncoder()\n",
    "    df[target_column] = target_encoder.fit_transform(df[target_column])\n",
    "\n",
    "X = df.drop(columns=[target_column])\n",
    "y = df[target_column]\n",
    "\n",
    "X_train, X_test, y_train, y_test = train_test_split(\n",
    "    X, y, test_size=0.2, random_state=42\n",
    ")\n",
    "\n",
    "clf = RandomForestClassifier(n_estimators=100, random_state=42)\n",
    "clf.fit(X_train, y_train)\n",
    "\n",
    "y_pred = clf.predict(X_test)\n",
    "\n",
    "accuracy = accuracy_score(y_test, y_pred)\n",
    "\n",
    "sample_input = X_test.iloc[:5]\n",
    "predicted_classes = clf.predict(sample_input)\n",
    "\n",
    "if target_encoder:\n",
    "    predicted_labels = target_encoder.inverse_transform(predicted_classes)\n",
    "else:\n",
    "    predicted_labels = predicted_classes\n",
    "\n",
    "print(\"\\nSample Predictions:\")\n",
    "for i, label in enumerate(predicted_labels):\n",
    "    print(f\"Example {i + 1}: Predicted Next Clothes = {label}\")"
   ]
  },
  {
   "cell_type": "code",
   "execution_count": null,
   "id": "bf1aa3e3-fdd9-4e65-b183-7cc4c65269a3",
   "metadata": {},
   "outputs": [],
   "source": []
  }
 ],
 "metadata": {
  "kernelspec": {
   "display_name": "Python 3 (ipykernel)",
   "language": "python",
   "name": "python3"
  },
  "language_info": {
   "codemirror_mode": {
    "name": "ipython",
    "version": 3
   },
   "file_extension": ".py",
   "mimetype": "text/x-python",
   "name": "python",
   "nbconvert_exporter": "python",
   "pygments_lexer": "ipython3",
   "version": "3.11.1"
  }
 },
 "nbformat": 4,
 "nbformat_minor": 5
}
